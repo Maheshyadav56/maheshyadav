{
 "cells": [
  {
   "cell_type": "code",
   "execution_count": 2,
   "id": "1997c42a-a6c9-4539-a280-ce2b45ba5a95",
   "metadata": {},
   "outputs": [
    {
     "ename": "NameError",
     "evalue": "name 'cv' is not defined",
     "output_type": "error",
     "traceback": [
      "\u001b[1;31m---------------------------------------------------------------------------\u001b[0m",
      "\u001b[1;31mNameError\u001b[0m                                 Traceback (most recent call last)",
      "Cell \u001b[1;32mIn[2], line 5\u001b[0m\n\u001b[0;32m      3\u001b[0m image\u001b[38;5;241m=\u001b[39mcv2\u001b[38;5;241m.\u001b[39mimread(\u001b[38;5;124m'\u001b[39m\u001b[38;5;124mC:/Users/Lenovo/Desktop/cs085/vivid-orange-colored-autumn-leaf.jpg\u001b[39m\u001b[38;5;124m'\u001b[39m)\n\u001b[0;32m      4\u001b[0m gray_image\u001b[38;5;241m=\u001b[39mcv2\u001b[38;5;241m.\u001b[39mcvtColor(image,cv2\u001b[38;5;241m.\u001b[39mCOLOR_BGR2GRAY)\n\u001b[1;32m----> 5\u001b[0m blurred_image\u001b[38;5;241m=\u001b[39mcv\u001b[38;5;241m.\u001b[39mGaussianBlur(grsy_image,(\u001b[38;5;241m5\u001b[39m,\u001b[38;5;241m5\u001b[39m),\u001b[38;5;241m0\u001b[39m)\n\u001b[0;32m      6\u001b[0m edges\u001b[38;5;241m=\u001b[39mcv2\u001b[38;5;241m.\u001b[39mCanny(blurred_image,threshold1\u001b[38;5;241m=\u001b[39m\u001b[38;5;241m150\u001b[39m,threshold2\u001b[38;5;241m=\u001b[39m\u001b[38;5;241m250\u001b[39m)\n\u001b[0;32m      7\u001b[0m plt\u001b[38;5;241m.\u001b[39mfigure(figsize\u001b[38;5;241m=\u001b[39m(\u001b[38;5;241m10\u001b[39m,\u001b[38;5;241m5\u001b[39m))\n",
      "\u001b[1;31mNameError\u001b[0m: name 'cv' is not defined"
     ]
    }
   ],
   "source": [
    "import cv2\n",
    "import matplotlib.pyplot as plt\n",
    "image=cv2.imread('C:/Users/Lenovo/Desktop/cs085/vivid-orange-colored-autumn-leaf.jpg')\n",
    "gray_image=cv2.cvtColor(image,cv2.COLOR_BGR2GRAY)\n",
    "blurred_image=cv.GaussianBlur(grsy_image,(5,5),0)\n",
    "edges=cv2.Canny(blurred_image,threshold1=150,threshold2=250)\n",
    "plt.figure(figsize=(10,5))\n",
    "plt.subplot(1,2,1)\n",
    "plt.imshow(cv2.cvtColor(image,cv2.COLOR_BGR2RGB))\n",
    "plt.title('Original Image')\n",
    "plt.subplot(1,2,2)\n",
    "plt.imshow(edges,cmap='gray')\n",
    "plt.title('Edges Detected using Canny')\n",
    "plt.show()"
   ]
  },
  {
   "cell_type": "code",
   "execution_count": 27,
   "id": "15a305f4-8018-41c7-860a-05ae3a972ce5",
   "metadata": {},
   "outputs": [
    {
     "ename": "AttributeError",
     "evalue": "module 'cv2' has no attribute 'TM_CCOEEF'",
     "output_type": "error",
     "traceback": [
      "\u001b[1;31m---------------------------------------------------------------------------\u001b[0m",
      "\u001b[1;31mAttributeError\u001b[0m                            Traceback (most recent call last)",
      "Cell \u001b[1;32mIn[27], line 14\u001b[0m\n\u001b[0;32m     12\u001b[0m \u001b[38;5;28;01mfor\u001b[39;00m meth \u001b[38;5;129;01min\u001b[39;00m methods:\n\u001b[0;32m     13\u001b[0m     img\u001b[38;5;241m=\u001b[39mimg2\u001b[38;5;241m.\u001b[39mcopy()\n\u001b[1;32m---> 14\u001b[0m     method \u001b[38;5;241m=\u001b[39m \u001b[38;5;28mgetattr\u001b[39m(cv,meth)\n\u001b[0;32m     15\u001b[0m     res \u001b[38;5;241m=\u001b[39m cv\u001b[38;5;241m.\u001b[39mmatchTemplete(img,templete,method )\n\u001b[0;32m     16\u001b[0m     mi,_val,max_val,min_loc\u001b[38;5;241m=\u001b[39mcv\u001b[38;5;241m.\u001b[39mmainMaxloc(res)\n",
      "\u001b[1;31mAttributeError\u001b[0m: module 'cv2' has no attribute 'TM_CCOEEF'"
     ]
    }
   ],
   "source": [
    "import cv2 as cv \n",
    "import numpy as np\n",
    "from matplotlib import pyplot as plt\n",
    "\n",
    "img=cv.imread('C:/Users/Lenovo/Desktop/cs085/vivid-orange-colored-autumn-leaf.jpg',cv.IMREAD_GRAYSCALE)\n",
    "assert img is not None, \"file could not be read,check with os.path.exists()\"\n",
    "img2=img.copy()\n",
    "templete=cv.imread('C:/Users/Lenovo/Desktop/cs085/vivid-orange-colored-autumn-leaf.jpg',cv.IMREAD_GRAYSCALE)\n",
    "assert templete is not None,\"file could not be read,check with os.path.exists()\"\n",
    "w,h=templete.shape[::-1]\n",
    "methods=['TM_CCOEEF','TM_CCOEEF_NORMED','TM_CCORR','TM_CCOEEF_NORMED','TM_SQDIFF','TM_SQDIFF_NORMED',]\n",
    "for meth in methods:\n",
    "    img=img2.copy()\n",
    "    method = getattr(cv,meth)\n",
    "    res = cv.matchTemplete(img,templete,method )\n",
    "    mi,_val,max_val,min_loc=cv.mainMaxloc(res)\n",
    "    if method in [cv,SQDIFF,cv.TM_QDIFF_NORMED]:\n",
    "        top_left=min_loc\n",
    "    else:\n",
    "        top_left=max_loc\n",
    "        bottom_right=(top_left[0]+w,top_left[1]+h)\n",
    "    cv.rectangle(img,top_left,bottom_right,255,2)\n",
    "    plt.subplot(121),plt.imshow(res,cmap='gray')\n",
    "    plt.title('Matching Result'),plt.xticks([]),plt.yticks([])\n",
    "    plt.subplot(122),plt.imshow(img,cmap='gray')\n",
    "    plt.title('Detected Point'),plt.xticks([]),plt.yticks([])\n",
    "    plt.suptitle(meth)\n",
    "    plt.show()"
   ]
  },
  {
   "cell_type": "code",
   "execution_count": null,
   "id": "77b4f46f-e001-4089-996f-04283bc06d15",
   "metadata": {},
   "outputs": [],
   "source": []
  },
  {
   "cell_type": "code",
   "execution_count": null,
   "id": "634d0c3c-9d54-4f00-826f-d949c88edaab",
   "metadata": {},
   "outputs": [],
   "source": []
  }
 ],
 "metadata": {
  "kernelspec": {
   "display_name": "Python 3 (ipykernel)",
   "language": "python",
   "name": "python3"
  },
  "language_info": {
   "codemirror_mode": {
    "name": "ipython",
    "version": 3
   },
   "file_extension": ".py",
   "mimetype": "text/x-python",
   "name": "python",
   "nbconvert_exporter": "python",
   "pygments_lexer": "ipython3",
   "version": "3.12.4"
  }
 },
 "nbformat": 4,
 "nbformat_minor": 5
}
